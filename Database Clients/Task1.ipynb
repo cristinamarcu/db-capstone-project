{
 "cells": [
  {
   "cell_type": "code",
   "execution_count": 6,
   "metadata": {},
   "outputs": [],
   "source": [
    "# Import MySQL Connector/Python \n",
    "import mysql.connector as connector\n",
    "\n",
    "connection=connector.connect(user=\"database_engineer_course\",password=\"cristina83\")\n",
    "cursor=connection.cursor()\n",
    "\n",
    "cursor.execute(\"use littlelemondb\")\n",
    "\n"
   ]
  },
  {
   "cell_type": "code",
   "execution_count": 9,
   "metadata": {},
   "outputs": [
    {
     "name": "stdout",
     "output_type": "stream",
     "text": [
      "('Tables_in_littlelemondb',)\n",
      "('bookings',)\n",
      "('customers',)\n",
      "('employees',)\n",
      "('menuitems',)\n",
      "('menus',)\n",
      "('orderdelieverystatus',)\n",
      "('orders',)\n",
      "('ordersviews',)\n"
     ]
    }
   ],
   "source": [
    "show_tables_query = \"SHOW tables\" \n",
    "cursor.execute(show_tables_query)\n",
    "\n",
    "results=cursor.fetchall()\n",
    "columns=cursor.column_names\n",
    "print(columns)\n",
    "for result in results:\n",
    "    print(result)"
   ]
  },
  {
   "cell_type": "code",
   "execution_count": 10,
   "metadata": {},
   "outputs": [
    {
     "name": "stdout",
     "output_type": "stream",
     "text": [
      "('FullName', 'ContactNumber', 'Email', 'TotalCost')\n",
      "('Marcos Romero', 351258074, 'marcos.romero@gmail.com', 345)\n",
      "('Vanessa McCarthy', 351258074, 'vanesa.m@gmail.co', 456)\n"
     ]
    }
   ],
   "source": [
    "query_show_customers=\"\"\"select customers.FullName, customers.ContactNumber, customers.Email, orders.BillAmount as TotalCost from customers\n",
    "join orders\n",
    "on orders.CustomerID=customers.CustomerID\n",
    "where orders.BillAmount>60\"\"\"\n",
    "\n",
    "\n",
    "cursor.execute(query_show_customers)\n",
    "\n",
    "results=cursor.fetchall()\n",
    "columns=cursor.column_names\n",
    "print(columns)\n",
    "for result in results:\n",
    "    print(result)"
   ]
  }
 ],
 "metadata": {
  "kernelspec": {
   "display_name": ".venv",
   "language": "python",
   "name": "python3"
  },
  "language_info": {
   "codemirror_mode": {
    "name": "ipython",
    "version": 3
   },
   "file_extension": ".py",
   "mimetype": "text/x-python",
   "name": "python",
   "nbconvert_exporter": "python",
   "pygments_lexer": "ipython3",
   "version": "3.10.11"
  }
 },
 "nbformat": 4,
 "nbformat_minor": 2
}
